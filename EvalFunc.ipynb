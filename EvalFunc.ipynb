{
 "cells": [
  {
   "cell_type": "code",
   "execution_count": 42,
   "metadata": {},
   "outputs": [],
   "source": [
    "import pandas as pd"
   ]
  },
  {
   "cell_type": "code",
   "execution_count": 43,
   "metadata": {},
   "outputs": [
    {
     "data": {
      "text/html": [
       "<div>\n",
       "<style scoped>\n",
       "    .dataframe tbody tr th:only-of-type {\n",
       "        vertical-align: middle;\n",
       "    }\n",
       "\n",
       "    .dataframe tbody tr th {\n",
       "        vertical-align: top;\n",
       "    }\n",
       "\n",
       "    .dataframe thead th {\n",
       "        text-align: right;\n",
       "    }\n",
       "</style>\n",
       "<table border=\"1\" class=\"dataframe\">\n",
       "  <thead>\n",
       "    <tr style=\"text-align: right;\">\n",
       "      <th></th>\n",
       "      <th>playernumberofstones</th>\n",
       "      <th>opponentnumberofstones</th>\n",
       "      <th>playernumberofhands</th>\n",
       "      <th>opponentnumberofhands</th>\n",
       "      <th>playersettledstone</th>\n",
       "      <th>opponentsettledstone</th>\n",
       "      <th>playerdangeroushands</th>\n",
       "      <th>opponentdangeroushands</th>\n",
       "      <th>playercellpoints</th>\n",
       "      <th>opponentcellpoints</th>\n",
       "      <th>evaluation_value</th>\n",
       "    </tr>\n",
       "  </thead>\n",
       "  <tbody>\n",
       "    <tr>\n",
       "      <th>0</th>\n",
       "      <td>45</td>\n",
       "      <td>19</td>\n",
       "      <td>0</td>\n",
       "      <td>0</td>\n",
       "      <td>45</td>\n",
       "      <td>19</td>\n",
       "      <td>0</td>\n",
       "      <td>0</td>\n",
       "      <td>-77</td>\n",
       "      <td>-27</td>\n",
       "      <td>26</td>\n",
       "    </tr>\n",
       "    <tr>\n",
       "      <th>1</th>\n",
       "      <td>24</td>\n",
       "      <td>40</td>\n",
       "      <td>0</td>\n",
       "      <td>0</td>\n",
       "      <td>24</td>\n",
       "      <td>40</td>\n",
       "      <td>0</td>\n",
       "      <td>0</td>\n",
       "      <td>-32</td>\n",
       "      <td>-72</td>\n",
       "      <td>-16</td>\n",
       "    </tr>\n",
       "    <tr>\n",
       "      <th>2</th>\n",
       "      <td>21</td>\n",
       "      <td>43</td>\n",
       "      <td>0</td>\n",
       "      <td>0</td>\n",
       "      <td>21</td>\n",
       "      <td>43</td>\n",
       "      <td>0</td>\n",
       "      <td>0</td>\n",
       "      <td>5</td>\n",
       "      <td>-109</td>\n",
       "      <td>-22</td>\n",
       "    </tr>\n",
       "    <tr>\n",
       "      <th>3</th>\n",
       "      <td>35</td>\n",
       "      <td>29</td>\n",
       "      <td>0</td>\n",
       "      <td>0</td>\n",
       "      <td>35</td>\n",
       "      <td>29</td>\n",
       "      <td>0</td>\n",
       "      <td>0</td>\n",
       "      <td>-44</td>\n",
       "      <td>-60</td>\n",
       "      <td>6</td>\n",
       "    </tr>\n",
       "    <tr>\n",
       "      <th>4</th>\n",
       "      <td>25</td>\n",
       "      <td>39</td>\n",
       "      <td>0</td>\n",
       "      <td>0</td>\n",
       "      <td>25</td>\n",
       "      <td>39</td>\n",
       "      <td>0</td>\n",
       "      <td>0</td>\n",
       "      <td>-78</td>\n",
       "      <td>-26</td>\n",
       "      <td>-14</td>\n",
       "    </tr>\n",
       "  </tbody>\n",
       "</table>\n",
       "</div>"
      ],
      "text/plain": [
       "   playernumberofstones  opponentnumberofstones  playernumberofhands  \\\n",
       "0                    45                      19                    0   \n",
       "1                    24                      40                    0   \n",
       "2                    21                      43                    0   \n",
       "3                    35                      29                    0   \n",
       "4                    25                      39                    0   \n",
       "\n",
       "   opponentnumberofhands  playersettledstone  opponentsettledstone  \\\n",
       "0                      0                  45                    19   \n",
       "1                      0                  24                    40   \n",
       "2                      0                  21                    43   \n",
       "3                      0                  35                    29   \n",
       "4                      0                  25                    39   \n",
       "\n",
       "   playerdangeroushands  opponentdangeroushands  playercellpoints  \\\n",
       "0                     0                       0               -77   \n",
       "1                     0                       0               -32   \n",
       "2                     0                       0                 5   \n",
       "3                     0                       0               -44   \n",
       "4                     0                       0               -78   \n",
       "\n",
       "   opponentcellpoints  evaluation_value  \n",
       "0                 -27                26  \n",
       "1                 -72               -16  \n",
       "2                -109               -22  \n",
       "3                 -60                 6  \n",
       "4                 -26               -14  "
      ]
     },
     "execution_count": 43,
     "metadata": {},
     "output_type": "execute_result"
    }
   ],
   "source": [
    "df = pd.read_csv('TrainData/train_data64.csv')\n",
    "df.head()"
   ]
  },
  {
   "cell_type": "code",
   "execution_count": 44,
   "metadata": {},
   "outputs": [
    {
     "data": {
      "text/plain": [
       "(331, 11)"
      ]
     },
     "execution_count": 44,
     "metadata": {},
     "output_type": "execute_result"
    }
   ],
   "source": [
    "df.shape"
   ]
  },
  {
   "cell_type": "code",
   "execution_count": 45,
   "metadata": {},
   "outputs": [
    {
     "data": {
      "text/html": [
       "<div>\n",
       "<style scoped>\n",
       "    .dataframe tbody tr th:only-of-type {\n",
       "        vertical-align: middle;\n",
       "    }\n",
       "\n",
       "    .dataframe tbody tr th {\n",
       "        vertical-align: top;\n",
       "    }\n",
       "\n",
       "    .dataframe thead th {\n",
       "        text-align: right;\n",
       "    }\n",
       "</style>\n",
       "<table border=\"1\" class=\"dataframe\">\n",
       "  <thead>\n",
       "    <tr style=\"text-align: right;\">\n",
       "      <th></th>\n",
       "      <th>0</th>\n",
       "      <th>1</th>\n",
       "      <th>2</th>\n",
       "      <th>3</th>\n",
       "      <th>4</th>\n",
       "      <th>5</th>\n",
       "      <th>6</th>\n",
       "      <th>7</th>\n",
       "      <th>8</th>\n",
       "      <th>9</th>\n",
       "    </tr>\n",
       "  </thead>\n",
       "  <tbody>\n",
       "    <tr>\n",
       "      <th>0</th>\n",
       "      <td>1.614353</td>\n",
       "      <td>-1.614353</td>\n",
       "      <td>0.0</td>\n",
       "      <td>0.0</td>\n",
       "      <td>1.614353</td>\n",
       "      <td>-1.614353</td>\n",
       "      <td>0.0</td>\n",
       "      <td>0.0</td>\n",
       "      <td>-1.087279</td>\n",
       "      <td>1.087279</td>\n",
       "    </tr>\n",
       "    <tr>\n",
       "      <th>1</th>\n",
       "      <td>-0.295342</td>\n",
       "      <td>0.295342</td>\n",
       "      <td>0.0</td>\n",
       "      <td>0.0</td>\n",
       "      <td>-0.295342</td>\n",
       "      <td>0.295342</td>\n",
       "      <td>0.0</td>\n",
       "      <td>0.0</td>\n",
       "      <td>0.164268</td>\n",
       "      <td>-0.164268</td>\n",
       "    </tr>\n",
       "    <tr>\n",
       "      <th>2</th>\n",
       "      <td>-0.568155</td>\n",
       "      <td>0.568155</td>\n",
       "      <td>0.0</td>\n",
       "      <td>0.0</td>\n",
       "      <td>-0.568155</td>\n",
       "      <td>0.568155</td>\n",
       "      <td>0.0</td>\n",
       "      <td>0.0</td>\n",
       "      <td>1.193318</td>\n",
       "      <td>-1.193318</td>\n",
       "    </tr>\n",
       "    <tr>\n",
       "      <th>3</th>\n",
       "      <td>0.704974</td>\n",
       "      <td>-0.704974</td>\n",
       "      <td>0.0</td>\n",
       "      <td>0.0</td>\n",
       "      <td>0.704974</td>\n",
       "      <td>-0.704974</td>\n",
       "      <td>0.0</td>\n",
       "      <td>0.0</td>\n",
       "      <td>-0.169478</td>\n",
       "      <td>0.169478</td>\n",
       "    </tr>\n",
       "    <tr>\n",
       "      <th>4</th>\n",
       "      <td>-0.204404</td>\n",
       "      <td>0.204404</td>\n",
       "      <td>0.0</td>\n",
       "      <td>0.0</td>\n",
       "      <td>-0.204404</td>\n",
       "      <td>0.204404</td>\n",
       "      <td>0.0</td>\n",
       "      <td>0.0</td>\n",
       "      <td>-1.115091</td>\n",
       "      <td>1.115091</td>\n",
       "    </tr>\n",
       "  </tbody>\n",
       "</table>\n",
       "</div>"
      ],
      "text/plain": [
       "          0         1    2    3         4         5    6    7         8  \\\n",
       "0  1.614353 -1.614353  0.0  0.0  1.614353 -1.614353  0.0  0.0 -1.087279   \n",
       "1 -0.295342  0.295342  0.0  0.0 -0.295342  0.295342  0.0  0.0  0.164268   \n",
       "2 -0.568155  0.568155  0.0  0.0 -0.568155  0.568155  0.0  0.0  1.193318   \n",
       "3  0.704974 -0.704974  0.0  0.0  0.704974 -0.704974  0.0  0.0 -0.169478   \n",
       "4 -0.204404  0.204404  0.0  0.0 -0.204404  0.204404  0.0  0.0 -1.115091   \n",
       "\n",
       "          9  \n",
       "0  1.087279  \n",
       "1 -0.164268  \n",
       "2 -1.193318  \n",
       "3  0.169478  \n",
       "4  1.115091  "
      ]
     },
     "execution_count": 45,
     "metadata": {},
     "output_type": "execute_result"
    }
   ],
   "source": [
    "from sklearn.preprocessing import StandardScaler\n",
    "sc = StandardScaler()\n",
    "sc.fit(df.iloc[:, :-1])\n",
    "sc_df = pd.DataFrame(sc.transform(df.iloc[:, :-1]))\n",
    "sc_df.head()"
   ]
  },
  {
   "cell_type": "code",
   "execution_count": 46,
   "metadata": {},
   "outputs": [
    {
     "name": "stdout",
     "output_type": "stream",
     "text": [
      "分割後のデータ\n",
      "(331, 10)\n",
      "(231, 10)\n",
      "(100, 10)\n"
     ]
    }
   ],
   "source": [
    "from sklearn.model_selection import train_test_split\n",
    "\n",
    "sc_X = sc_df.iloc[:, :].values\n",
    "sc_y = df.iloc[:, -1].values\n",
    "#再現性や後の検討を考えてrandom_stateは指定しておくことがおすすめ \n",
    "sc_X_train, sc_X_test, sc_y_train, sc_y_test = train_test_split(sc_X, sc_y, test_size=0.3, random_state=1)\n",
    "\n",
    "#データの分割を確認\n",
    "print(\"分割後のデータ\")\n",
    "print(sc_X.shape)\n",
    "print(sc_X_train.shape)\n",
    "print(sc_X_test.shape)"
   ]
  },
  {
   "cell_type": "code",
   "execution_count": 47,
   "metadata": {},
   "outputs": [
    {
     "data": {
      "text/plain": [
       "LinearRegression(copy_X=True, fit_intercept=True, n_jobs=1, normalize=False)"
      ]
     },
     "execution_count": 47,
     "metadata": {},
     "output_type": "execute_result"
    }
   ],
   "source": [
    "from sklearn.linear_model import LinearRegression\n",
    "\n",
    "reg_lr = LinearRegression()\n",
    "# 訓練データにモデルを適用する\n",
    "reg_lr.fit(sc_X_train,sc_y_train)\n",
    "LinearRegression(fit_intercept=True)"
   ]
  },
  {
   "cell_type": "code",
   "execution_count": 48,
   "metadata": {},
   "outputs": [
    {
     "data": {
      "text/html": [
       "<div>\n",
       "<style scoped>\n",
       "    .dataframe tbody tr th:only-of-type {\n",
       "        vertical-align: middle;\n",
       "    }\n",
       "\n",
       "    .dataframe tbody tr th {\n",
       "        vertical-align: top;\n",
       "    }\n",
       "\n",
       "    .dataframe thead th {\n",
       "        text-align: right;\n",
       "    }\n",
       "</style>\n",
       "<table border=\"1\" class=\"dataframe\">\n",
       "  <thead>\n",
       "    <tr style=\"text-align: right;\">\n",
       "      <th></th>\n",
       "      <th>playernumberofstones</th>\n",
       "      <th>opponentnumberofstones</th>\n",
       "      <th>playernumberofhands</th>\n",
       "      <th>opponentnumberofhands</th>\n",
       "      <th>playersettledstone</th>\n",
       "      <th>opponentsettledstone</th>\n",
       "      <th>playerdangeroushands</th>\n",
       "      <th>opponentdangeroushands</th>\n",
       "      <th>playercellpoints</th>\n",
       "      <th>opponentcellpoints</th>\n",
       "    </tr>\n",
       "  </thead>\n",
       "  <tbody>\n",
       "    <tr>\n",
       "      <th>Estimated coefficients</th>\n",
       "      <td>5.5</td>\n",
       "      <td>-5.5</td>\n",
       "      <td>0.0</td>\n",
       "      <td>0.0</td>\n",
       "      <td>5.5</td>\n",
       "      <td>-5.5</td>\n",
       "      <td>0.0</td>\n",
       "      <td>0.0</td>\n",
       "      <td>0.0</td>\n",
       "      <td>-0.0</td>\n",
       "    </tr>\n",
       "  </tbody>\n",
       "</table>\n",
       "</div>"
      ],
      "text/plain": [
       "                        playernumberofstones  opponentnumberofstones  \\\n",
       "Estimated coefficients                   5.5                    -5.5   \n",
       "\n",
       "                        playernumberofhands  opponentnumberofhands  \\\n",
       "Estimated coefficients                  0.0                    0.0   \n",
       "\n",
       "                        playersettledstone  opponentsettledstone  \\\n",
       "Estimated coefficients                 5.5                  -5.5   \n",
       "\n",
       "                        playerdangeroushands  opponentdangeroushands  \\\n",
       "Estimated coefficients                   0.0                     0.0   \n",
       "\n",
       "                        playercellpoints  opponentcellpoints  \n",
       "Estimated coefficients               0.0                -0.0  "
      ]
     },
     "execution_count": 48,
     "metadata": {},
     "output_type": "execute_result"
    }
   ],
   "source": [
    "reg_lr.coef_\n",
    "# 重みをデータフレームとして表示\n",
    "coef = reg_lr.coef_\n",
    "df_coef = pd.DataFrame(coef).T\n",
    "df_coef.columns = df.columns[:-1]\n",
    "df_coef.index = [\"Estimated coefficients\"]\n",
    "df_coef = df_coef.round(2)\n",
    "df_coef"
   ]
  },
  {
   "cell_type": "code",
   "execution_count": 49,
   "metadata": {},
   "outputs": [
    {
     "data": {
      "text/plain": [
       "-9.50453172205438"
      ]
     },
     "execution_count": 49,
     "metadata": {},
     "output_type": "execute_result"
    }
   ],
   "source": [
    "reg_lr.intercept_"
   ]
  },
  {
   "cell_type": "code",
   "execution_count": 50,
   "metadata": {},
   "outputs": [
    {
     "name": "stdout",
     "output_type": "stream",
     "text": [
      "[ 26 -16 -22   6 -14 -20  14 -22  14 -16 -12 -18 -30  18  14 -26  -2  -4\n",
      "   8  24  10 -28 -10   6   0 -10 -18   4   6 -22   0  -2 -20   8 -46  28\n",
      " -40 -30 -14 -22  12 -64 -34 -26 -52 -28 -12 -20   4   6  14 -18 -18 -28\n",
      "  10  18 -46 -22 -28 -32 -34   2 -28   0 -30  10 -16 -18 -14 -22 -44 -18\n",
      " -24  28 -42  30  30   2 -38  -8 -32 -34  -6 -18 -10   4 -18  10 -12  14\n",
      "  -8 -14 -46  18 -38 -38 -18 -16 -40 -16 -12 -48  -6  -2 -24 -34 -16   2\n",
      "   0   8 -10  22  32 -20 -52 -40 -24  38  20 -24 -14 -46 -22  -6 -22 -10\n",
      "   0   8  -6 -40   4 -38  -4 -38 -24 -44  34  14 -26 -54  32  22 -60   4\n",
      "  40 -38  12 -14 -18  -8 -24 -42   0 -14 -26 -12 -12   6 -22   2 -26  -2\n",
      "   4 -24 -24 -40 -18  -4 -42 -40  26 -36  26   2 -12 -24  -8   4   2 -16\n",
      "  18 -10  40  18 -42 -22 -26   6 -48  -8 -46  -8   0   2  10 -20 -20 -10\n",
      " -26 -14 -16 -12 -16 -42 -34   2   2 -44   0  32  16  26   4 -16   6 -18\n",
      "  -8 -22 -16 -20  34 -30 -22  12  44 -10 -28  -2 -36  40 -28   4  34 -22\n",
      "  -6  28  10  34  -6 -26 -42 -22   4 -18  10  16 -22   8   8   8   2  -4\n",
      " -38 -32 -12  24  -2  -8  12 -14  -8 -24 -18  16  30 -10  -4  10  -2 -12\n",
      "  20 -42 -12  12 -10  14 -34 -10 -38 -32 -26 -20  34  -6 -36  18 -14 -46\n",
      "   6 -20  -6  -2   8 -48  22  22 -48   6   8  -4 -14  16  18 -30  34 -34\n",
      "  28 -24 -14   0 -36 -16  20 -56 -42  14 -22  -6 -20 -22  12  26 -22  16\n",
      " -22 -28 -22   4  10  -2  16]\n",
      "[[ 1.61435261 -1.61435261  0.         ...  0.         -1.08727892\n",
      "   1.08727892]\n",
      " [-0.29534191  0.29534191  0.         ...  0.          0.16426818\n",
      "  -0.16426818]\n",
      " [-0.56815541  0.56815541  0.         ...  0.          1.19331802\n",
      "  -1.19331802]\n",
      " ...\n",
      " [ 0.88684993 -0.88684993  0.         ...  0.         -1.67133423\n",
      "   1.67133423]\n",
      " [ 0.34122293 -0.34122293  0.         ...  0.          0.24770466\n",
      "  -0.24770466]\n",
      " [ 1.15966344 -1.15966344  0.         ...  0.         -0.19728987\n",
      "   0.19728987]]\n"
     ]
    }
   ],
   "source": [
    "print(sc_y)\n",
    "print(sc_X)"
   ]
  },
  {
   "cell_type": "code",
   "execution_count": 59,
   "metadata": {},
   "outputs": [
    {
     "data": {
      "image/png": "[encoded data removed]",
      "text/plain": [
       "<Figure size 1008x504 with 1 Axes>"
      ]
     },
     "metadata": {
      "needs_background": "light"
     },
     "output_type": "display_data"
    }
   ],
   "source": [
    "import matplotlib.pyplot as plt\n",
    "import numpy as np\n",
    "\n",
    "# パラメータ数を定義しておく\n",
    "num = len(df_coef.columns)\n",
    "# グラフの大きさを設定\n",
    "plt.figure(figsize=(14, 7))\n",
    "# 文字の大きさを設定\n",
    "plt.rcParams[\"font.size\"] = 8\n",
    "# 棒グラフの設定plt.bar(x,height)\n",
    "plt.bar(df_coef.columns, coef)\n",
    "#plt.xtickes(分割数,割り当てるラベル)\n",
    "plt.xticks(np.arange(num),df_coef.columns)\n",
    "plt.ylabel(\"Estimated coefficients\")\n",
    "plt.grid()\n",
    "plt.show()"
   ]
  },
  {
   "cell_type": "code",
   "execution_count": 60,
   "metadata": {},
   "outputs": [
    {
     "name": "stdout",
     "output_type": "stream",
     "text": [
      "1.000\n"
     ]
    }
   ],
   "source": [
    "reg_lr.score(sc_X_test,sc_y_test)\n",
    "print('{:.3f}'.format(reg_lr.score(sc_X_test,sc_y_test)))"
   ]
  },
  {
   "cell_type": "code",
   "execution_count": 61,
   "metadata": {},
   "outputs": [
    {
     "name": "stdout",
     "output_type": "stream",
     "text": [
      "訓練データのMSE：0.0\n",
      "訓練データのRMSE：0.0\n",
      "テストデータのMSE：0.0\n",
      "テストデータのRMSE：0.0\n"
     ]
    }
   ],
   "source": [
    "from sklearn.metrics import mean_squared_error\n",
    "train_pred = reg_lr.predict(sc_X_train)\n",
    "train_mse = mean_squared_error(y_true=sc_y_train , y_pred=train_pred)\n",
    "print(\"訓練データのMSE：\" + '{:.1f}'.format(train_mse))\n",
    "print(\"訓練データのRMSE：\" + '{:.1f}'.format(np.sqrt(train_mse)))\n",
    "test_pred = reg_lr.predict(sc_X_test)\n",
    "test_mse = mean_squared_error(y_true=sc_y_test , y_pred=test_pred)\n",
    "print(\"テストデータのMSE：\" + '{:.1f}'.format(test_mse))\n",
    "print(\"テストデータのRMSE：\" + '{:.1f}'.format(np.sqrt(test_mse)))"
   ]
  },
  {
   "cell_type": "code",
   "execution_count": 62,
   "metadata": {},
   "outputs": [
    {
     "data": {
      "image/png": "[encoded data removed]",
      "text/plain": [
       "<Figure size 432x288 with 1 Axes>"
      ]
     },
     "metadata": {
      "needs_background": "light"
     },
     "output_type": "display_data"
    }
   ],
   "source": [
    "x = np.linspace(0, 10, 900)\n",
    "\n",
    "plt.rcParams[\"font.size\"] = 14\n",
    "plt.scatter(x=sc_y_train, y=train_pred, s=15, label='train_data', color=\"b\")\n",
    "plt.scatter(x=sc_y_test, y=test_pred, s=15, label='test_data',color=\"r\")\n",
    "plt.plot(x, x, color=\"gray\", linestyle=\"--\")\n",
    "plt.title(\"LinearRegression\")\n",
    "plt.xlabel(\"y_true [-]\")\n",
    "plt.ylabel(\"y_pred [-]\")\n",
    "plt.xlim(0, 70)\n",
    "plt.ylim(0, 70)\n",
    "plt.xticks(np.arange(0,100,50))\n",
    "plt.yticks(np.arange(0,100,50))\n",
    "plt.grid()\n",
    "plt.legend()\n",
    "plt.show()"
   ]
  },
  {
   "cell_type": "code",
   "execution_count": 63,
   "metadata": {},
   "outputs": [
    {
     "name": "stdout",
     "output_type": "stream",
     "text": [
      "mean\n",
      "[ 27.24773414  36.75226586   0.           0.          27.24773414\n",
      "  36.75226586   0.           0.         -37.90634441 -66.09365559]\n",
      "variance\n",
      "[ 120.92352206  120.92352206    0.            0.          120.92352206\n",
      "  120.92352206    0.            0.         1292.79787516 1292.79787516]\n",
      "coef\n",
      "[ 5.49826159e+00 -5.49826159e+00  0.00000000e+00  0.00000000e+00\n",
      "  5.49826159e+00 -5.49826159e+00  0.00000000e+00  0.00000000e+00\n",
      "  1.07652603e-15 -1.52061524e-15]\n",
      "intercept\n",
      "-9.50453172205438\n"
     ]
    }
   ],
   "source": [
    "print(\"mean\")\n",
    "print(sc.mean_)\n",
    "print(\"variance\")\n",
    "print(sc.var_)\n",
    "print(\"coef\")\n",
    "print(coef)\n",
    "print(\"intercept\")\n",
    "print(reg_lr.intercept_)"
   ]
  },
  {
   "cell_type": "code",
   "execution_count": 64,
   "metadata": {},
   "outputs": [
    {
     "name": "stdout",
     "output_type": "stream",
     "text": [
      "[0.49999999999999994, -0.49999999999999983, nan, nan, 0.49999999999999994, -0.49999999999999994, nan, nan, 2.994051195935357e-17, -4.229159115170073e-17, nan]\n"
     ]
    },
    {
     "name": "stderr",
     "output_type": "stream",
     "text": [
      "/Users/oogamitakuya/.pyenv/versions/anaconda3-5.3.1/lib/python3.7/site-packages/ipykernel_launcher.py:4: RuntimeWarning: invalid value encountered in double_scalars\n",
      "  after removing the cwd from sys.path.\n",
      "/Users/oogamitakuya/.pyenv/versions/anaconda3-5.3.1/lib/python3.7/site-packages/ipykernel_launcher.py:6: RuntimeWarning: invalid value encountered in double_scalars\n",
      "  \n"
     ]
    }
   ],
   "source": [
    "ret_coef = [0]*(len(sc.mean_)+1)\n",
    "ret_coef[-1] += reg_lr.intercept_\n",
    "for i in range(len(ret_coef)-1):\n",
    "    ret_coef[-1] -= coef[i]*sc.mean_[i]/np.sqrt(sc.var_[i])\n",
    "for i in range(len(ret_coef)-1):\n",
    "    ret_coef[i] = coef[i]/np.sqrt(sc.var_[i])\n",
    "print(ret_coef)\n"
   ]
  },
  {
   "cell_type": "code",
   "execution_count": 65,
   "metadata": {},
   "outputs": [
    {
     "data": {
      "text/plain": [
       "'AssertionErrorret_coef = [0]*(len(sc.mean_))\\nret_coef[-1] += reg_lr.intercept_\\nfor i in range(len(ret_coef)-1):\\n    ret_coef[-1] -= coef[i]*sc.mean_[i]/np.sqrt(sc.var_[i])\\nfor i in range(len(ret_coef)-1):\\n    ret_coef[i] = coef[i]/sc.var_[i]\\nprint(ret_coef)'"
      ]
     },
     "execution_count": 65,
     "metadata": {},
     "output_type": "execute_result"
    }
   ],
   "source": [
    "'''AssertionErrorret_coef = [0]*(len(sc.mean_))\n",
    "ret_coef[-1] += reg_lr.intercept_\n",
    "for i in range(len(ret_coef)-1):\n",
    "    ret_coef[-1] -= coef[i]*sc.mean_[i]/np.sqrt(sc.var_[i])\n",
    "for i in range(len(ret_coef)-1):\n",
    "    ret_coef[i] = coef[i]/sc.var_[i]\n",
    "print(ret_coef)'''\n"
   ]
  },
  {
   "cell_type": "code",
   "execution_count": 69,
   "metadata": {},
   "outputs": [
    {
     "name": "stdout",
     "output_type": "stream",
     "text": [
      "[[  45   19    0    0   45   19    0    0  -77  -27   26]\n",
      " [  24   40    0    0   24   40    0    0  -32  -72  -16]\n",
      " [  21   43    0    0   21   43    0    0    5 -109  -22]\n",
      " [  35   29    0    0   35   29    0    0  -44  -60    6]\n",
      " [  25   39    0    0   25   39    0    0  -78  -26  -14]\n",
      " [  22   42    0    0   22   42    0    0  -26  -78  -20]\n",
      " [  39   25    0    0   39   25    0    0   21 -125   14]\n",
      " [  21   43    0    0   21   43    0    0 -101   -3  -22]\n",
      " [  39   25    0    0   39   25    0    0  -28  -76   14]\n",
      " [  24   40    0    0   24   40    0    0  -41  -63  -16]]\n",
      "45\n",
      "19\n",
      "0\n",
      "0\n",
      "45\n",
      "19\n",
      "0\n",
      "0\n",
      "-77\n",
      "-27\n",
      "nan\n",
      "276.40507096731903\n",
      "24\n",
      "40\n",
      "0\n",
      "0\n",
      "24\n",
      "40\n",
      "0\n",
      "0\n",
      "-32\n",
      "-72\n",
      "nan\n",
      "-185.44890260782245\n",
      "21\n",
      "43\n",
      "0\n",
      "0\n",
      "21\n",
      "43\n",
      "0\n",
      "0\n",
      "5\n",
      "-109\n",
      "nan\n",
      "-251.4280416899855\n",
      "35\n",
      "29\n",
      "0\n",
      "0\n",
      "35\n",
      "29\n",
      "0\n",
      "0\n",
      "-44\n",
      "-60\n",
      "nan\n",
      "56.47460736010879\n",
      "25\n",
      "39\n",
      "0\n",
      "0\n",
      "25\n",
      "39\n",
      "0\n",
      "0\n",
      "-78\n",
      "-26\n",
      "nan\n",
      "-163.45585624710162\n",
      "22\n",
      "42\n",
      "0\n",
      "0\n",
      "22\n",
      "42\n",
      "0\n",
      "0\n",
      "-26\n",
      "-78\n",
      "nan\n",
      "-229.43499532926455\n",
      "39\n",
      "25\n",
      "0\n",
      "0\n",
      "39\n",
      "25\n",
      "0\n",
      "0\n",
      "21\n",
      "-125\n",
      "nan\n",
      "144.44679280299312\n",
      "21\n",
      "43\n",
      "0\n",
      "0\n",
      "21\n",
      "43\n",
      "0\n",
      "0\n",
      "-101\n",
      "-3\n",
      "nan\n",
      "-251.42804168998578\n",
      "39\n",
      "25\n",
      "0\n",
      "0\n",
      "39\n",
      "25\n",
      "0\n",
      "0\n",
      "-28\n",
      "-76\n",
      "nan\n",
      "144.44679280299295\n",
      "24\n",
      "40\n",
      "0\n",
      "0\n",
      "24\n",
      "40\n",
      "0\n",
      "0\n",
      "-41\n",
      "-63\n",
      "nan\n",
      "-185.4489026078225\n"
     ]
    }
   ],
   "source": [
    "qt = 10\n",
    "print(df.values[:qt,:])\n",
    "for j in range(qt):\n",
    "    val = 0\n",
    "    val2 = 0\n",
    "    for i in range(len(df.values[j])-1):\n",
    "        print(df.values[j][i])\n",
    "        val += ret_coef[i]*df.values[j][i]\n",
    "        val2 += coef[i]*df.values[j][i]\n",
    "    print(val + ret_coef[-1])\n",
    "    print(val2 + reg_lr.intercept_)"
   ]
  }
 ],
 "metadata": {
  "interpreter": {
   "hash": "a82049b94ea91f43d997bfd8c39969bb860637cf2ced5aa9032458ef53026808"
  },
  "kernelspec": {
   "display_name": "Python 3.7.0 64-bit ('anaconda3-5.3.1': pyenv)",
   "language": "python",
   "name": "python3"
  },
  "language_info": {
   "codemirror_mode": {
    "name": "ipython",
    "version": 3
   },
   "file_extension": ".py",
   "mimetype": "text/x-python",
   "name": "python",
   "nbconvert_exporter": "python",
   "pygments_lexer": "ipython3",
   "version": "3.7.0"
  },
  "orig_nbformat": 4
 },
 "nbformat": 4,
 "nbformat_minor": 2
}
