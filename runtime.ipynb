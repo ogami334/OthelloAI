{
 "cells": [
  {
   "cell_type": "code",
   "execution_count": 3,
   "metadata": {},
   "outputs": [
    {
     "name": "stdout",
     "output_type": "stream",
     "text": [
      "Average_consideration_time1: 620\n",
      "Average_consideration_time2: 60\n",
      "gamecount1: 4\n",
      "gamecount2: 3\n",
      "gamecount3: 0\n"
     ]
    },
    {
     "data": {
      "image/png": "[encoded data removed]",
      "text/plain": [
       "<Figure size 432x288 with 1 Axes>"
      ]
     },
     "metadata": {
      "needs_background": "light"
     },
     "output_type": "display_data"
    }
   ],
   "source": [
    "accumulated_time1 = [0]*64\n",
    "counter_list1 = [0]*64\n",
    "gamecount1 = 0\n",
    "index = 0\n",
    "with open(\"result1.txt\") as f:\n",
    "    for line in f:\n",
    "        number = int(line)\n",
    "        if number ==-1:\n",
    "            gamecount1 += 1\n",
    "            index = 0\n",
    "        else:\n",
    "            counter_list1[index] += 1\n",
    "            accumulated_time1[index] += number\n",
    "            index += 1\n",
    "\n",
    "average1 = [0]*64\n",
    "for i in range(64):\n",
    "    if counter_list1[i]!=0:\n",
    "        average1[i] = accumulated_time1[i]/counter_list1[i]\n",
    "\n",
    "\n",
    "accumulated_time2 = [0]*64\n",
    "counter_list2 = [0]*64\n",
    "gamecount2 = 0\n",
    "index = 0\n",
    "with open(\"result2.txt\") as f:\n",
    "    for line in f:\n",
    "        number = int(line)\n",
    "        if number ==-1:\n",
    "            index = 0\n",
    "            gamecount2 += 1\n",
    "        else:\n",
    "            counter_list2[index] += 1\n",
    "            accumulated_time2[index] += number\n",
    "            index += 1\n",
    "\n",
    "\n",
    "average2 = [0]*64\n",
    "for i in range(64):\n",
    "    if counter_list2[i]!=0:\n",
    "        average2[i] = accumulated_time2[i]/counter_list2[i]\n",
    "\n",
    "accumulated_time3 = [0]*64\n",
    "counter_list3 = [0]*64\n",
    "gamecount3 = 0\n",
    "index = 0\n",
    "with open(\"result3.txt\") as f:\n",
    "    for line in f:\n",
    "        number = int(line)\n",
    "        if number ==-1:\n",
    "            index = 0\n",
    "            gamecount3 += 1\n",
    "        else:\n",
    "            counter_list3[index] += 1\n",
    "            accumulated_time3[index] += number\n",
    "            index += 1\n",
    "            \n",
    "\n",
    "average3 = [0]*64\n",
    "for i in range(64):\n",
    "    if counter_list3[i]!=0:\n",
    "        average3[i] = accumulated_time3[i]/counter_list3[i]\n",
    "\n",
    "\n",
    "\n",
    "\n",
    "import matplotlib.pyplot as plt\n",
    "if sum(counter_list1)!=0:\n",
    "    print(\"Average_consideration_time1: \" + str(sum(accumulated_time1)//sum(counter_list1)))\n",
    "if sum(counter_list2)!=0:\n",
    "    print(\"Average_consideration_time2: \" + str(sum(accumulated_time2)//sum(counter_list2)))\n",
    "if sum(counter_list3)!=0:\n",
    "    print(\"Average_consideration_time3: \" + str(sum(accumulated_time3)//sum(counter_list3)))\n",
    "print(\"gamecount1: \"+str(gamecount1))\n",
    "print(\"gamecount2: \"+str(gamecount2))\n",
    "print(\"gamecount3: \"+str(gamecount3))\n",
    "plt.plot(average1,color=\"b\",label=\"normal_search\")\n",
    "plt.plot(average2,color=\"r\",label=\"alphabeta_search\")\n",
    "plt.plot(average3,color=\"g\",label=\"alphabeta_search & full_search\")\n",
    "plt.legend()\n",
    "plt.show()"
   ]
  },
  {
   "cell_type": "code",
   "execution_count": 15,
   "metadata": {},
   "outputs": [],
   "source": [
    "max_hands = 32\n",
    "accumulated_time_minmax = [0]*max_hands\n",
    "counter_list_minmax = [0]*max_hands\n",
    "gamecount_minmax = 0\n",
    "index = 0\n",
    "with open(\"time_minmax.txt\") as f:\n",
    "    for line in f:\n",
    "        number = int(line)\n",
    "        if number ==-1:\n",
    "            gamecount_minmax += 1\n",
    "            index = 0\n",
    "        else:\n",
    "            counter_list_minmax[index] += 1\n",
    "            accumulated_time_minmax[index] += number\n",
    "            index += 1\n",
    "\n",
    "average_minmax = [0]*max_hands\n",
    "for i in range(max_hands):\n",
    "    if counter_list_minmax[i]!=0:\n",
    "        average_minmax[i] = accumulated_time_minmax[i]/counter_list_minmax[i]"
   ]
  },
  {
   "cell_type": "code",
   "execution_count": 16,
   "metadata": {},
   "outputs": [],
   "source": [
    "max_hands = 32\n",
    "accumulated_time_ab = [0]*max_hands\n",
    "counter_list_ab = [0]*max_hands\n",
    "gamecount_ab = 0\n",
    "index = 0\n",
    "with open(\"time_ab.txt\") as f:\n",
    "    for line in f:\n",
    "        number = int(line)\n",
    "        if number ==-1:\n",
    "            gamecount_ab += 1\n",
    "            index = 0\n",
    "        else:\n",
    "            counter_list_ab[index] += 1\n",
    "            accumulated_time_ab[index] += number\n",
    "            index += 1\n",
    "\n",
    "average_ab = [0]*max_hands\n",
    "for i in range(max_hands):\n",
    "    if counter_list_ab[i]!=0:\n",
    "        average_ab[i] = accumulated_time_ab[i]/counter_list_ab[i]"
   ]
  },
  {
   "cell_type": "code",
   "execution_count": 17,
   "metadata": {},
   "outputs": [
    {
     "name": "stdout",
     "output_type": "stream",
     "text": [
      "Average_consideration_time_minmax: 368\n",
      "Average_consideration_time_ab: 55\n",
      "gamecount_minmax: 200\n",
      "gamecount_ab: 200\n"
     ]
    },
    {
     "data": {
      "image/png": "[encoded data removed]",
      "text/plain": [
       "<Figure size 432x288 with 1 Axes>"
      ]
     },
     "metadata": {
      "needs_background": "light"
     },
     "output_type": "display_data"
    }
   ],
   "source": [
    "import matplotlib.pyplot as plt\n",
    "if sum(counter_list_minmax)!=0:\n",
    "    print(\"Average_consideration_time_minmax: \" + str(sum(accumulated_time_minmax)//sum(counter_list_minmax)))\n",
    "if sum(counter_list_ab)!=0:\n",
    "    print(\"Average_consideration_time_ab: \" + str(sum(accumulated_time_ab)//sum(counter_list_ab)))\n",
    "print(\"gamecount_minmax: \"+str(gamecount_minmax))\n",
    "print(\"gamecount_ab: \"+str(gamecount_ab))\n",
    "plt.plot(average_minmax,color=\"b\",label=\"minmax_search\")\n",
    "plt.plot(average_ab,color=\"r\",label=\"alphabeta_search\")\n",
    "plt.xlabel(\"turn\")\n",
    "plt.ylabel(\"consideration_time[ms]\")\n",
    "plt.legend()\n",
    "plt.savefig(\"time_comparation_tmp.png\")\n",
    "plt.show()\n"
   ]
  }
 ],
 "metadata": {
  "interpreter": {
   "hash": "9ae69eeb574da41050f978877e4067219d243023e72fd78c162826319deac134"
  },
  "kernelspec": {
   "display_name": "Python 3.9.4 64-bit",
   "name": "python3"
  },
  "language_info": {
   "codemirror_mode": {
    "name": "ipython",
    "version": 3
   },
   "file_extension": ".py",
   "mimetype": "text/x-python",
   "name": "python",
   "nbconvert_exporter": "python",
   "pygments_lexer": "ipython3",
   "version": "3.7.0"
  },
  "orig_nbformat": 4
 },
 "nbformat": 4,
 "nbformat_minor": 2
}
