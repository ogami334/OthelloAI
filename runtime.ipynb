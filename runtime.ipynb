{
 "cells": [
  {
   "cell_type": "code",
   "execution_count": 3,
   "metadata": {},
   "outputs": [
    {
     "name": "stdout",
     "output_type": "stream",
     "text": [
      "Average_consideration_time1: 620\n",
      "Average_consideration_time2: 60\n",
      "gamecount1: 4\n",
      "gamecount2: 3\n",
      "gamecount3: 0\n"
     ]
    },
    {
     "data": {
      "image/png": "[encoded data removed]",
      "text/plain": [
       "<Figure size 432x288 with 1 Axes>"
      ]
     },
     "metadata": {
      "needs_background": "light"
     },
     "output_type": "display_data"
    }
   ],
   "source": [
    "accumulated_time1 = [0]*64\n",
    "counter_list1 = [0]*64\n",
    "gamecount1 = 0\n",
    "index = 0\n",
    "with open(\"result1.txt\") as f:\n",
    "    for line in f:\n",
    "        number = int(line)\n",
    "        if number ==-1:\n",
    "            gamecount1 += 1\n",
    "            index = 0\n",
    "        else:\n",
    "            counter_list1[index] += 1\n",
    "            accumulated_time1[index] += number\n",
    "            index += 1\n",
    "\n",
    "average1 = [0]*64\n",
    "for i in range(64):\n",
    "    if counter_list1[i]!=0:\n",
    "        average1[i] = accumulated_time1[i]/counter_list1[i]\n",
    "\n",
    "\n",
    "accumulated_time2 = [0]*64\n",
    "counter_list2 = [0]*64\n",
    "gamecount2 = 0\n",
    "index = 0\n",
    "with open(\"result2.txt\") as f:\n",
    "    for line in f:\n",
    "        number = int(line)\n",
    "        if number ==-1:\n",
    "            index = 0\n",
    "            gamecount2 += 1\n",
    "        else:\n",
    "            counter_list2[index] += 1\n",
    "            accumulated_time2[index] += number\n",
    "            index += 1\n",
    "\n",
    "\n",
    "average2 = [0]*64\n",
    "for i in range(64):\n",
    "    if counter_list2[i]!=0:\n",
    "        average2[i] = accumulated_time2[i]/counter_list2[i]\n",
    "\n",
    "accumulated_time3 = [0]*64\n",
    "counter_list3 = [0]*64\n",
    "gamecount3 = 0\n",
    "index = 0\n",
    "with open(\"result3.txt\") as f:\n",
    "    for line in f:\n",
    "        number = int(line)\n",
    "        if number ==-1:\n",
    "            index = 0\n",
    "            gamecount3 += 1\n",
    "        else:\n",
    "            counter_list3[index] += 1\n",
    "            accumulated_time3[index] += number\n",
    "            index += 1\n",
    "            \n",
    "\n",
    "average3 = [0]*64\n",
    "for i in range(64):\n",
    "    if counter_list3[i]!=0:\n",
    "        average3[i] = accumulated_time3[i]/counter_list3[i]\n",
    "\n",
    "\n",
    "\n",
    "\n",
    "import matplotlib.pyplot as plt\n",
    "if sum(counter_list1)!=0:\n",
    "    print(\"Average_consideration_time1: \" + str(sum(accumulated_time1)//sum(counter_list1)))\n",
    "if sum(counter_list2)!=0:\n",
    "    print(\"Average_consideration_time2: \" + str(sum(accumulated_time2)//sum(counter_list2)))\n",
    "if sum(counter_list3)!=0:\n",
    "    print(\"Average_consideration_time3: \" + str(sum(accumulated_time3)//sum(counter_list3)))\n",
    "print(\"gamecount1: \"+str(gamecount1))\n",
    "print(\"gamecount2: \"+str(gamecount2))\n",
    "print(\"gamecount3: \"+str(gamecount3))\n",
    "plt.plot(average1,color=\"b\",label=\"normal_search\")\n",
    "plt.plot(average2,color=\"r\",label=\"alphabeta_search\")\n",
    "plt.plot(average3,color=\"g\",label=\"alphabeta_search & full_search\")\n",
    "plt.legend()\n",
    "plt.show()"
   ]
  }
 ],
 "metadata": {
  "interpreter": {
   "hash": "9ae69eeb574da41050f978877e4067219d243023e72fd78c162826319deac134"
  },
  "kernelspec": {
   "display_name": "Python 3.9.4 64-bit",
   "name": "python3"
  },
  "language_info": {
   "codemirror_mode": {
    "name": "ipython",
    "version": 3
   },
   "file_extension": ".py",
   "mimetype": "text/x-python",
   "name": "python",
   "nbconvert_exporter": "python",
   "pygments_lexer": "ipython3",
   "version": "3.9.4"
  },
  "orig_nbformat": 4
 },
 "nbformat": 4,
 "nbformat_minor": 2
}
