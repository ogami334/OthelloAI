{
 "cells": [
  {
   "cell_type": "code",
   "execution_count": 1,
   "metadata": {},
   "outputs": [
    {
     "name": "stdout",
     "output_type": "stream",
     "text": [
      "xooooooo\n",
      "xxoxxxxx\n",
      "xoxoxoxx\n",
      "xoxxooxx\n",
      "xoxoxoxx\n",
      "xooxoxxx\n",
      "xoooooxx\n",
      "xxxxxxxx\n"
     ]
    }
   ],
   "source": [
    "    def str_to_int(s):\n",
    "        if s==\"a\":\n",
    "            return 10\n",
    "        elif s==\"b\":\n",
    "            return 11\n",
    "        elif s==\"c\":\n",
    "            return 12\n",
    "        elif s==\"d\":\n",
    "            return 13\n",
    "        elif s==\"e\":\n",
    "            return 14\n",
    "        elif s==\"f\":\n",
    "            return 15\n",
    "        else:\n",
    "            return int(s)\n",
    "            \n",
    "    playerboard = \"7f20544c54687c00\"\n",
    "    opponentboard = \"80dfabb3ab9783ff\"\n",
    "    for i in range(16-len(playerboard)):\n",
    "        playerboard = \"0\"+playerboard\n",
    "    for i in range(16-len(opponentboard)):\n",
    "        opponentboard = \"0\"+opponentboard\n",
    "    board = [[-1]*8 for i in range(8)]\n",
    "    for i in range(16):\n",
    "        s = playerboard[i]\n",
    "        t = opponentboard[i]\n",
    "        u = str_to_int(s)\n",
    "        v = str_to_int(t)\n",
    "        for j in range(4):\n",
    "            if u&(1<<j):\n",
    "                board[i//2][4*(i%2)+3-j] = 1\n",
    "            if v&(1<<j):\n",
    "                board[i//2][4*(i%2)+3-j] = 0\n",
    "    for i in range(8):\n",
    "        res = \"\"\n",
    "        for j in range(8):\n",
    "            if board[i][j]==-1:\n",
    "                res += \"-\"\n",
    "            elif board[i][j]==1:\n",
    "                res += \"o\"\n",
    "            else:\n",
    "                res += \"x\"\n",
    "        print(res)"
   ]
  }
 ],
 "metadata": {
  "interpreter": {
   "hash": "a82049b94ea91f43d997bfd8c39969bb860637cf2ced5aa9032458ef53026808"
  },
  "kernelspec": {
   "display_name": "Python 3.7.0 64-bit ('anaconda3-5.3.1': pyenv)",
   "language": "python",
   "name": "python3"
  },
  "language_info": {
   "codemirror_mode": {
    "name": "ipython",
    "version": 3
   },
   "file_extension": ".py",
   "mimetype": "text/x-python",
   "name": "python",
   "nbconvert_exporter": "python",
   "pygments_lexer": "ipython3",
   "version": "3.7.0"
  },
  "orig_nbformat": 4
 },
 "nbformat": 4,
 "nbformat_minor": 2
}
